{
  "nbformat": 4,
  "nbformat_minor": 0,
  "metadata": {
    "colab": {
      "name": "pix2code.ipynb",
      "provenance": [],
      "collapsed_sections": [],
      "mount_file_id": "1mwAbz2QUsjEQEKo0oCAhK4-8UNXXx3ST",
      "authorship_tag": "ABX9TyNsilRyWlTMuk0xIo2NR1ly",
      "include_colab_link": true
    },
    "kernelspec": {
      "name": "python3",
      "display_name": "Python 3"
    },
    "language_info": {
      "name": "python"
    },
    "accelerator": "GPU"
  },
  "cells": [
    {
      "cell_type": "markdown",
      "metadata": {
        "id": "view-in-github",
        "colab_type": "text"
      },
      "source": [
        "<a href=\"https://colab.research.google.com/github/salavat-mj/pix2code/blob/master/pix2code.ipynb\" target=\"_parent\"><img src=\"https://colab.research.google.com/assets/colab-badge.svg\" alt=\"Open In Colab\"/></a>"
      ]
    },
    {
      "cell_type": "code",
      "metadata": {
        "colab": {
          "base_uri": "https://localhost:8080/"
        },
        "id": "iOlct_WXxrhN",
        "outputId": "f6e08920-5cd8-4739-da11-fa22f9d16184"
      },
      "source": [
        "# !git clone https://github.com/tonybeltramelli/pix2code.git\n",
        "%cd /content/drive/MyDrive/pix2code_small"
      ],
      "execution_count": null,
      "outputs": [
        {
          "output_type": "stream",
          "text": [
            "/content/drive/MyDrive/pix2code_small\n"
          ],
          "name": "stdout"
        }
      ]
    },
    {
      "cell_type": "code",
      "metadata": {
        "colab": {
          "base_uri": "https://localhost:8080/"
        },
        "id": "OJmIFUQ03hd7",
        "outputId": "db281f50-2867-4b01-c271-f20e2bf275b8"
      },
      "source": [
        "!grep -A 25 \"## Usage\" README.md"
      ],
      "execution_count": null,
      "outputs": [
        {
          "output_type": "stream",
          "text": [
            "## Usage\n",
            "\n",
            "Prepare the data:\n",
            "```sh\n",
            "# reassemble and unzip the data\n",
            "cd datasets\n",
            "zip -F pix2code_datasets.zip --out datasets.zip\n",
            "unzip datasets.zip\n",
            "\n",
            "cd ../model\n",
            "\n",
            "# split training set and evaluation set while ensuring no training example in the evaluation set\n",
            "# usage: build_datasets.py <input path> <distribution (default: 6)>\n",
            "./build_datasets.py ../datasets/ios/all_data\n",
            "./build_datasets.py ../datasets/android/all_data\n",
            "./build_datasets.py ../datasets/web/all_data\n",
            "\n",
            "# transform images (normalized pixel values and resized pictures) in training dataset to numpy arrays (smaller files if you need to upload the set to train your model in the cloud)\n",
            "# usage: convert_imgs_to_arrays.py <input path> <output path>\n",
            "./convert_imgs_to_arrays.py ../datasets/ios/training_set ../datasets/ios/training_features\n",
            "./convert_imgs_to_arrays.py ../datasets/android/training_set ../datasets/android/training_features\n",
            "./convert_imgs_to_arrays.py ../datasets/web/training_set ../datasets/web/training_features\n",
            "```\n",
            "\n",
            "Train the model:\n",
            "```sh\n"
          ],
          "name": "stdout"
        }
      ]
    },
    {
      "cell_type": "code",
      "metadata": {
        "colab": {
          "base_uri": "https://localhost:8080/"
        },
        "id": "WdW8yRyaUo3i",
        "outputId": "27c9650f-b0eb-4753-ee98-ed5ff6330491"
      },
      "source": [
        "!cat requirements.txt"
      ],
      "execution_count": null,
      "outputs": [
        {
          "output_type": "stream",
          "text": [
            "numpy==1.13.3\n",
            "Keras==2.1.2\n",
            "opencv-python==3.3.0.10\n",
            "h5py==2.7.1\n",
            "tensorflow==1.4.0\n"
          ],
          "name": "stdout"
        }
      ]
    },
    {
      "cell_type": "code",
      "metadata": {
        "colab": {
          "base_uri": "https://localhost:8080/"
        },
        "id": "wJCPGe7B_oJA",
        "outputId": "fbbceade-bec7-4d37-c6e0-130c3119a626"
      },
      "source": [
        "%%bash\n",
        "# pip install Keras==2.2.4\n",
        "\n",
        "pip install -q numpy~=1.13\n",
        "pip install -q Keras~=2.1\n",
        "pip install -q opencv-python~=3.3\n",
        "pip install -q h5py~=2.7\n",
        "pip install -q tensorflow~=1.4\n",
        "pip freeze | grep -E \"(Keras==|numpy==|opencv-python==|h5py==|tensorflow==)\""
      ],
      "execution_count": null,
      "outputs": [
        {
          "output_type": "stream",
          "text": [
            "h5py==2.10.0\n",
            "Keras==2.4.3\n",
            "numpy==1.18.5\n",
            "opencv-python==3.4.15.55\n",
            "tensorflow==1.15.5\n"
          ],
          "name": "stdout"
        },
        {
          "output_type": "stream",
          "text": [
            "ERROR: pip's dependency resolver does not currently take into account all the packages that are installed. This behaviour is the source of the following dependency conflicts.\n",
            "albumentations 0.1.12 requires imgaug<0.2.7,>=0.2.5, but you have imgaug 0.2.9 which is incompatible.\n",
            "ERROR: pip's dependency resolver does not currently take into account all the packages that are installed. This behaviour is the source of the following dependency conflicts.\n",
            "tensorflow 2.5.0 requires h5py~=3.1.0, but you have h5py 2.10.0 which is incompatible.\n",
            "ERROR: pip's dependency resolver does not currently take into account all the packages that are installed. This behaviour is the source of the following dependency conflicts.\n",
            "tensorflow-probability 0.13.0 requires gast>=0.3.2, but you have gast 0.2.2 which is incompatible.\n",
            "kapre 0.3.5 requires tensorflow>=2.0.0, but you have tensorflow 1.15.5 which is incompatible.\n",
            "datascience 0.10.6 requires folium==0.2.1, but you have folium 0.8.3 which is incompatible.\n",
            "albumentations 0.1.12 requires imgaug<0.2.7,>=0.2.5, but you have imgaug 0.2.9 which is incompatible.\n"
          ],
          "name": "stderr"
        }
      ]
    },
    {
      "cell_type": "code",
      "metadata": {
        "colab": {
          "base_uri": "https://localhost:8080/"
        },
        "id": "xnqGOQcVSAbT",
        "outputId": "7570d4af-cefd-44c0-a7b7-a958ca992cf3"
      },
      "source": [
        "%tensorflow_version 1.x"
      ],
      "execution_count": null,
      "outputs": [
        {
          "output_type": "stream",
          "text": [
            "TensorFlow 1.x selected.\n"
          ],
          "name": "stdout"
        }
      ]
    },
    {
      "cell_type": "code",
      "metadata": {
        "id": "hS1aka1-zTo7"
      },
      "source": [
        "# Set execute permissions\n",
        "%%bash\n",
        "chmod +x *.sh\n",
        "chmod +x ./*/*.py"
      ],
      "execution_count": null,
      "outputs": []
    },
    {
      "cell_type": "code",
      "metadata": {
        "id": "gOfGmkPp6kYq"
      },
      "source": [
        "# !./0_data_preparing.sh"
      ],
      "execution_count": null,
      "outputs": []
    },
    {
      "cell_type": "code",
      "metadata": {
        "colab": {
          "base_uri": "https://localhost:8080/"
        },
        "id": "BMCS48im8P5N",
        "outputId": "7a3f1a0a-1595-48f3-8491-7ef042fa37fd"
      },
      "source": [
        "!./1_train.sh"
      ],
      "execution_count": null,
      "outputs": [
        {
          "output_type": "stream",
          "text": [
            "/usr/local/lib/python3.7/dist-packages/h5py/__init__.py:36: FutureWarning: Conversion of the second argument of issubdtype from `float` to `np.floating` is deprecated. In future, it will be treated as `np.float64 == np.dtype(float).type`.\n",
            "  from ._conv import register_converters as _register_converters\n",
            "WARNING:tensorflow:From ./train.py:7: The name tf.Session is deprecated. Please use tf.compat.v1.Session instead.\n",
            "\n",
            "WARNING:tensorflow:From ./train.py:7: The name tf.ConfigProto is deprecated. Please use tf.compat.v1.ConfigProto instead.\n",
            "\n",
            "2021-08-06 21:19:27.834230: I tensorflow/core/platform/profile_utils/cpu_utils.cc:94] CPU Frequency: 2199995000 Hz\n",
            "2021-08-06 21:19:27.834652: I tensorflow/compiler/xla/service/service.cc:168] XLA service 0x558004656a00 initialized for platform Host (this does not guarantee that XLA will be used). Devices:\n",
            "2021-08-06 21:19:27.834688: I tensorflow/compiler/xla/service/service.cc:176]   StreamExecutor device (0): Host, Default Version\n",
            "2021-08-06 21:19:27.838977: I tensorflow/stream_executor/platform/default/dso_loader.cc:44] Successfully opened dynamic library libcuda.so.1\n",
            "2021-08-06 21:19:28.136223: I tensorflow/stream_executor/cuda/cuda_gpu_executor.cc:983] successful NUMA node read from SysFS had negative value (-1), but there must be at least one NUMA node, so returning NUMA node zero\n",
            "2021-08-06 21:19:28.136984: I tensorflow/compiler/xla/service/service.cc:168] XLA service 0x558004656d80 initialized for platform CUDA (this does not guarantee that XLA will be used). Devices:\n",
            "2021-08-06 21:19:28.137013: I tensorflow/compiler/xla/service/service.cc:176]   StreamExecutor device (0): Tesla T4, Compute Capability 7.5\n",
            "2021-08-06 21:19:28.138062: I tensorflow/stream_executor/cuda/cuda_gpu_executor.cc:983] successful NUMA node read from SysFS had negative value (-1), but there must be at least one NUMA node, so returning NUMA node zero\n",
            "2021-08-06 21:19:28.138660: I tensorflow/core/common_runtime/gpu/gpu_device.cc:1639] Found device 0 with properties: \n",
            "name: Tesla T4 major: 7 minor: 5 memoryClockRate(GHz): 1.59\n",
            "pciBusID: 0000:00:04.0\n",
            "2021-08-06 21:19:28.150053: I tensorflow/stream_executor/platform/default/dso_loader.cc:44] Successfully opened dynamic library libcudart.so.10.1\n",
            "2021-08-06 21:19:28.394969: I tensorflow/stream_executor/platform/default/dso_loader.cc:44] Successfully opened dynamic library libcublas.so.10\n",
            "2021-08-06 21:19:28.517070: I tensorflow/stream_executor/platform/default/dso_loader.cc:44] Successfully opened dynamic library libcufft.so.10\n",
            "2021-08-06 21:19:28.554482: I tensorflow/stream_executor/platform/default/dso_loader.cc:44] Successfully opened dynamic library libcurand.so.10\n",
            "2021-08-06 21:19:28.803578: I tensorflow/stream_executor/platform/default/dso_loader.cc:44] Successfully opened dynamic library libcusolver.so.10\n",
            "2021-08-06 21:19:28.851363: I tensorflow/stream_executor/platform/default/dso_loader.cc:44] Successfully opened dynamic library libcusparse.so.10\n",
            "2021-08-06 21:19:29.350259: I tensorflow/stream_executor/platform/default/dso_loader.cc:44] Successfully opened dynamic library libcudnn.so.7\n",
            "2021-08-06 21:19:29.350431: I tensorflow/stream_executor/cuda/cuda_gpu_executor.cc:983] successful NUMA node read from SysFS had negative value (-1), but there must be at least one NUMA node, so returning NUMA node zero\n",
            "2021-08-06 21:19:29.351037: I tensorflow/stream_executor/cuda/cuda_gpu_executor.cc:983] successful NUMA node read from SysFS had negative value (-1), but there must be at least one NUMA node, so returning NUMA node zero\n",
            "2021-08-06 21:19:29.351544: I tensorflow/core/common_runtime/gpu/gpu_device.cc:1767] Adding visible gpu devices: 0\n",
            "2021-08-06 21:19:29.354215: I tensorflow/stream_executor/platform/default/dso_loader.cc:44] Successfully opened dynamic library libcudart.so.10.1\n",
            "2021-08-06 21:19:29.355454: I tensorflow/core/common_runtime/gpu/gpu_device.cc:1180] Device interconnect StreamExecutor with strength 1 edge matrix:\n",
            "2021-08-06 21:19:29.355484: I tensorflow/core/common_runtime/gpu/gpu_device.cc:1186]      0 \n",
            "2021-08-06 21:19:29.355496: I tensorflow/core/common_runtime/gpu/gpu_device.cc:1199] 0:   N \n",
            "2021-08-06 21:19:29.356467: I tensorflow/stream_executor/cuda/cuda_gpu_executor.cc:983] successful NUMA node read from SysFS had negative value (-1), but there must be at least one NUMA node, so returning NUMA node zero\n",
            "2021-08-06 21:19:29.357103: I tensorflow/stream_executor/cuda/cuda_gpu_executor.cc:983] successful NUMA node read from SysFS had negative value (-1), but there must be at least one NUMA node, so returning NUMA node zero\n",
            "2021-08-06 21:19:29.357921: W tensorflow/core/common_runtime/gpu/gpu_bfc_allocator.cc:39] Overriding allow_growth setting because the TF_FORCE_GPU_ALLOW_GROWTH environment variable is set. Original config value was 0.\n",
            "2021-08-06 21:19:29.357985: I tensorflow/core/common_runtime/gpu/gpu_device.cc:1325] Created TensorFlow device (/job:localhost/replica:0/task:0/device:GPU:0 with 14257 MB memory) -> physical GPU (device: 0, name: Tesla T4, pci bus id: 0000:00:04.0, compute capability: 7.5)\n",
            "Device mapping:\n",
            "/job:localhost/replica:0/task:0/device:XLA_CPU:0 -> device: XLA_CPU device\n",
            "/job:localhost/replica:0/task:0/device:XLA_GPU:0 -> device: XLA_GPU device\n",
            "/job:localhost/replica:0/task:0/device:GPU:0 -> device: 0, name: Tesla T4, pci bus id: 0000:00:04.0, compute capability: 7.5\n",
            "2021-08-06 21:19:29.358496: I tensorflow/core/common_runtime/direct_session.cc:359] Device mapping:\n",
            "/job:localhost/replica:0/task:0/device:XLA_CPU:0 -> device: XLA_CPU device\n",
            "/job:localhost/replica:0/task:0/device:XLA_GPU:0 -> device: XLA_GPU device\n",
            "/job:localhost/replica:0/task:0/device:GPU:0 -> device: 0, name: Tesla T4, pci bus id: 0000:00:04.0, compute capability: 7.5\n",
            "\n",
            "Using TensorFlow backend.\n",
            "Loading data...\n",
            "Generating sparse vectors...\n",
            "Dataset size: 142416\n",
            "Vocabulary size: 19\n",
            "Input shape: (256, 256, 3)\n",
            "Output size: 19\n",
            "Convert arrays...\n",
            "tcmalloc: large alloc 112000499712 bytes == 0x558095a2e000 @  0x7f3fc1eb81e7 0x7f3fbf375631 0x7f3fbf3d9cc8 0x7f3fbf3dce08 0x7f3fbf3dd3e5 0x7f3fbf47468d 0x558003799010 0x558003798da0 0x55800380d2f9 0x55800379a65a 0x558003808d67 0x558003807c35 0x55800379a73a 0x55800380993b 0x558003807c35 0x558003807933 0x5580038d1402 0x5580038d177d 0x5580038d1626 0x5580038a9313 0x5580038a8fbc 0x7f3fc0ca2bf7 0x5580038a8e9a\n"
          ],
          "name": "stdout"
        }
      ]
    },
    {
      "cell_type": "code",
      "metadata": {
        "id": "gFvsdDX-EvGT"
      },
      "source": [
        "%%bash\n",
        "cd model\n",
        "# train with generator to avoid having to fit all the data in memory (RECOMMENDED)\n",
        "./train.py ../datasets/web/training_features ../bin 1"
      ],
      "execution_count": null,
      "outputs": []
    },
    {
      "cell_type": "code",
      "metadata": {
        "id": "yR9Vvt7mWByy"
      },
      "source": [
        "!kill $(ps aux | awk '{print $2}')"
      ],
      "execution_count": null,
      "outputs": []
    },
    {
      "cell_type": "code",
      "metadata": {
        "id": "hlAJUVx2W2p1"
      },
      "source": [
        ""
      ],
      "execution_count": null,
      "outputs": []
    }
  ]
}